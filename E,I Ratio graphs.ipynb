{
 "cells": [
  {
   "cell_type": "code",
   "execution_count": null,
   "id": "b898e583",
   "metadata": {},
   "outputs": [],
   "source": [
    "#Google slides summarizing main results\n",
    "https://docs.google.com/presentation/d/1L7darcvJRIyNyTp776u8A7puUbsiJMksFIQhpq3H_ow/edit?usp=sharing"
   ]
  },
  {
   "cell_type": "code",
   "execution_count": 4,
   "id": "fe420ded",
   "metadata": {},
   "outputs": [],
   "source": [
    "import pandas as pd\n",
    "import math\n",
    "import numpy as np\n",
    "from mnist.loader import MNIST\n",
    "import pandas as pd"
   ]
  },
  {
   "cell_type": "code",
   "execution_count": 5,
   "id": "9699b572",
   "metadata": {},
   "outputs": [],
   "source": [
    "def findRegParms(numTimePts,numHidNodes,fileName):\n",
    "    numEdges = numHidNodes*(numHidNodes-1)\n",
    "    x = np.empty(numTimePts)\n",
    "    y = np.empty([numTimePts*numEdges,1])\n",
    "    for i in range(0,numTimePts):\n",
    "        x[i]=(i/10)\n",
    "\n",
    "    with open(\"C:/Users/Joseph Hwang/Desktop/Sample_Output_Practice/Sample_Output_4/\" + fileName) as infile:\n",
    "    #with open(\"C:/Users/Joseph Hwang/Desktop/Sample_Output_Practice/Sample_Output_1/\" + fileName) as infile:\n",
    "        i = 0\n",
    "        for line in infile:\n",
    "            # print(line.split(\" \")[16])\n",
    "            #y[i]= line.split(\" \")[16]\n",
    "            y[i]= line.split(\" \")[0]\n",
    "            #y[int(floor(i)][i%numEdges]\n",
    "            i = i + 1\n",
    "        y = y.reshape((numTimePts, numEdges))\n",
    "    m, b = np.polyfit(x, y, 1)\n",
    "    return m,b,y"
   ]
  },
  {
   "cell_type": "code",
   "execution_count": 6,
   "id": "41dddae9",
   "metadata": {},
   "outputs": [],
   "source": [
    "numTimePts = 21 # number of time points\n",
    "numHidNodes = 100 # number of hidden nodes\n",
    "numExamples = 10000 # number of instances you want to process\n",
    "\n",
    "edge_names = []\n",
    "for i in range(784,(784+numHidNodes)):\n",
    "    for j in range((784+numHidNodes-1),783,-1):\n",
    "        if(i!=j):\n",
    "            edge_names.append(str(i)+'_'+str(j))\n",
    "\n",
    "slope_vals = np.empty([numExamples,len(edge_names)])\n",
    "intercept_vals = np.empty([numExamples,len(edge_names)])\n",
    "edge_vals = []\n",
    "\n",
    "for i in range(numExamples):\n",
    "    #fileName = \"temp.\" + str(i) + \".out\"\n",
    "    fileName = str(i) + \".out\"\n",
    "    slopes, intercepts, edgeWeights = findRegParms(numTimePts,numHidNodes,fileName)\n",
    "    edge_vals.append(edgeWeights)\n",
    "    "
   ]
  },
  {
   "cell_type": "code",
   "execution_count": 298,
   "id": "b3e00649",
   "metadata": {
    "scrolled": true
   },
   "outputs": [
    {
     "ename": "ValueError",
     "evalue": "Must pass 2-d input. shape=(10000, 21, 9900)",
     "output_type": "error",
     "traceback": [
      "\u001b[1;31m---------------------------------------------------------------------------\u001b[0m",
      "\u001b[1;31mValueError\u001b[0m                                Traceback (most recent call last)",
      "\u001b[1;32m<ipython-input-298-13075c97456a>\u001b[0m in \u001b[0;36m<module>\u001b[1;34m\u001b[0m\n\u001b[0;32m      1\u001b[0m \u001b[1;31m#df_slopes = pd.DataFrame(list(slope_vals),columns=edge_names)\u001b[0m\u001b[1;33m\u001b[0m\u001b[1;33m\u001b[0m\u001b[1;33m\u001b[0m\u001b[0m\n\u001b[0;32m      2\u001b[0m \u001b[1;31m#df_intercepts = pd.DataFrame(list(intercept_vals),columns=edge_names)\u001b[0m\u001b[1;33m\u001b[0m\u001b[1;33m\u001b[0m\u001b[1;33m\u001b[0m\u001b[0m\n\u001b[1;32m----> 3\u001b[1;33m \u001b[0mdf_edgeWeights\u001b[0m \u001b[1;33m=\u001b[0m \u001b[0mpd\u001b[0m\u001b[1;33m.\u001b[0m\u001b[0mDataFrame\u001b[0m\u001b[1;33m(\u001b[0m\u001b[0mlist\u001b[0m\u001b[1;33m(\u001b[0m\u001b[0medge_vals\u001b[0m\u001b[1;33m)\u001b[0m\u001b[1;33m,\u001b[0m\u001b[0mcolumns\u001b[0m\u001b[1;33m=\u001b[0m\u001b[0medge_names\u001b[0m\u001b[1;33m)\u001b[0m\u001b[1;33m\u001b[0m\u001b[1;33m\u001b[0m\u001b[0m\n\u001b[0m\u001b[0;32m      4\u001b[0m \u001b[1;31m#df_combined = pd.concat([df_slopes, df_intercepts], axis=1, join = 'inner')\u001b[0m\u001b[1;33m\u001b[0m\u001b[1;33m\u001b[0m\u001b[1;33m\u001b[0m\u001b[0m\n",
      "\u001b[1;32mC:\\ProgramData\\Anaconda3\\lib\\site-packages\\pandas\\core\\frame.py\u001b[0m in \u001b[0;36m__init__\u001b[1;34m(self, data, index, columns, dtype, copy)\u001b[0m\n\u001b[0;32m    582\u001b[0m                     \u001b[0mmgr\u001b[0m \u001b[1;33m=\u001b[0m \u001b[0marrays_to_mgr\u001b[0m\u001b[1;33m(\u001b[0m\u001b[0marrays\u001b[0m\u001b[1;33m,\u001b[0m \u001b[0mcolumns\u001b[0m\u001b[1;33m,\u001b[0m \u001b[0mindex\u001b[0m\u001b[1;33m,\u001b[0m \u001b[0mcolumns\u001b[0m\u001b[1;33m,\u001b[0m \u001b[0mdtype\u001b[0m\u001b[1;33m=\u001b[0m\u001b[0mdtype\u001b[0m\u001b[1;33m)\u001b[0m\u001b[1;33m\u001b[0m\u001b[1;33m\u001b[0m\u001b[0m\n\u001b[0;32m    583\u001b[0m                 \u001b[1;32melse\u001b[0m\u001b[1;33m:\u001b[0m\u001b[1;33m\u001b[0m\u001b[1;33m\u001b[0m\u001b[0m\n\u001b[1;32m--> 584\u001b[1;33m                     \u001b[0mmgr\u001b[0m \u001b[1;33m=\u001b[0m \u001b[0minit_ndarray\u001b[0m\u001b[1;33m(\u001b[0m\u001b[0mdata\u001b[0m\u001b[1;33m,\u001b[0m \u001b[0mindex\u001b[0m\u001b[1;33m,\u001b[0m \u001b[0mcolumns\u001b[0m\u001b[1;33m,\u001b[0m \u001b[0mdtype\u001b[0m\u001b[1;33m=\u001b[0m\u001b[0mdtype\u001b[0m\u001b[1;33m,\u001b[0m \u001b[0mcopy\u001b[0m\u001b[1;33m=\u001b[0m\u001b[0mcopy\u001b[0m\u001b[1;33m)\u001b[0m\u001b[1;33m\u001b[0m\u001b[1;33m\u001b[0m\u001b[0m\n\u001b[0m\u001b[0;32m    585\u001b[0m             \u001b[1;32melse\u001b[0m\u001b[1;33m:\u001b[0m\u001b[1;33m\u001b[0m\u001b[1;33m\u001b[0m\u001b[0m\n\u001b[0;32m    586\u001b[0m                 \u001b[0mmgr\u001b[0m \u001b[1;33m=\u001b[0m \u001b[0minit_dict\u001b[0m\u001b[1;33m(\u001b[0m\u001b[1;33m{\u001b[0m\u001b[1;33m}\u001b[0m\u001b[1;33m,\u001b[0m \u001b[0mindex\u001b[0m\u001b[1;33m,\u001b[0m \u001b[0mcolumns\u001b[0m\u001b[1;33m,\u001b[0m \u001b[0mdtype\u001b[0m\u001b[1;33m=\u001b[0m\u001b[0mdtype\u001b[0m\u001b[1;33m)\u001b[0m\u001b[1;33m\u001b[0m\u001b[1;33m\u001b[0m\u001b[0m\n",
      "\u001b[1;32mC:\\ProgramData\\Anaconda3\\lib\\site-packages\\pandas\\core\\internals\\construction.py\u001b[0m in \u001b[0;36minit_ndarray\u001b[1;34m(values, index, columns, dtype, copy)\u001b[0m\n\u001b[0;32m    190\u001b[0m     \u001b[1;31m# by definition an array here\u001b[0m\u001b[1;33m\u001b[0m\u001b[1;33m\u001b[0m\u001b[1;33m\u001b[0m\u001b[0m\n\u001b[0;32m    191\u001b[0m     \u001b[1;31m# the dtypes will be coerced to a single dtype\u001b[0m\u001b[1;33m\u001b[0m\u001b[1;33m\u001b[0m\u001b[1;33m\u001b[0m\u001b[0m\n\u001b[1;32m--> 192\u001b[1;33m     \u001b[0mvalues\u001b[0m \u001b[1;33m=\u001b[0m \u001b[0m_prep_ndarray\u001b[0m\u001b[1;33m(\u001b[0m\u001b[0mvalues\u001b[0m\u001b[1;33m,\u001b[0m \u001b[0mcopy\u001b[0m\u001b[1;33m=\u001b[0m\u001b[0mcopy\u001b[0m\u001b[1;33m)\u001b[0m\u001b[1;33m\u001b[0m\u001b[1;33m\u001b[0m\u001b[0m\n\u001b[0m\u001b[0;32m    193\u001b[0m \u001b[1;33m\u001b[0m\u001b[0m\n\u001b[0;32m    194\u001b[0m     \u001b[1;32mif\u001b[0m \u001b[0mdtype\u001b[0m \u001b[1;32mis\u001b[0m \u001b[1;32mnot\u001b[0m \u001b[1;32mNone\u001b[0m \u001b[1;32mand\u001b[0m \u001b[1;32mnot\u001b[0m \u001b[0mis_dtype_equal\u001b[0m\u001b[1;33m(\u001b[0m\u001b[0mvalues\u001b[0m\u001b[1;33m.\u001b[0m\u001b[0mdtype\u001b[0m\u001b[1;33m,\u001b[0m \u001b[0mdtype\u001b[0m\u001b[1;33m)\u001b[0m\u001b[1;33m:\u001b[0m\u001b[1;33m\u001b[0m\u001b[1;33m\u001b[0m\u001b[0m\n",
      "\u001b[1;32mC:\\ProgramData\\Anaconda3\\lib\\site-packages\\pandas\\core\\internals\\construction.py\u001b[0m in \u001b[0;36m_prep_ndarray\u001b[1;34m(values, copy)\u001b[0m\n\u001b[0;32m    326\u001b[0m         \u001b[0mvalues\u001b[0m \u001b[1;33m=\u001b[0m \u001b[0mvalues\u001b[0m\u001b[1;33m.\u001b[0m\u001b[0mreshape\u001b[0m\u001b[1;33m(\u001b[0m\u001b[1;33m(\u001b[0m\u001b[0mvalues\u001b[0m\u001b[1;33m.\u001b[0m\u001b[0mshape\u001b[0m\u001b[1;33m[\u001b[0m\u001b[1;36m0\u001b[0m\u001b[1;33m]\u001b[0m\u001b[1;33m,\u001b[0m \u001b[1;36m1\u001b[0m\u001b[1;33m)\u001b[0m\u001b[1;33m)\u001b[0m\u001b[1;33m\u001b[0m\u001b[1;33m\u001b[0m\u001b[0m\n\u001b[0;32m    327\u001b[0m     \u001b[1;32melif\u001b[0m \u001b[0mvalues\u001b[0m\u001b[1;33m.\u001b[0m\u001b[0mndim\u001b[0m \u001b[1;33m!=\u001b[0m \u001b[1;36m2\u001b[0m\u001b[1;33m:\u001b[0m\u001b[1;33m\u001b[0m\u001b[1;33m\u001b[0m\u001b[0m\n\u001b[1;32m--> 328\u001b[1;33m         \u001b[1;32mraise\u001b[0m \u001b[0mValueError\u001b[0m\u001b[1;33m(\u001b[0m\u001b[1;34mf\"Must pass 2-d input. shape={values.shape}\"\u001b[0m\u001b[1;33m)\u001b[0m\u001b[1;33m\u001b[0m\u001b[1;33m\u001b[0m\u001b[0m\n\u001b[0m\u001b[0;32m    329\u001b[0m \u001b[1;33m\u001b[0m\u001b[0m\n\u001b[0;32m    330\u001b[0m     \u001b[1;32mreturn\u001b[0m \u001b[0mvalues\u001b[0m\u001b[1;33m\u001b[0m\u001b[1;33m\u001b[0m\u001b[0m\n",
      "\u001b[1;31mValueError\u001b[0m: Must pass 2-d input. shape=(10000, 21, 9900)"
     ]
    }
   ],
   "source": [
    "#df_slopes = pd.DataFrame(list(slope_vals),columns=edge_names)\n",
    "#df_intercepts = pd.DataFrame(list(intercept_vals),columns=edge_names)\n",
    "df_edgeWeights = pd.DataFrame(list(edge_vals),columns=edge_names)\n",
    "#df_combined = pd.concat([df_slopes, df_intercepts], axis=1, join = 'inner')"
   ]
  },
  {
   "cell_type": "code",
   "execution_count": 7,
   "id": "6d2e9a02",
   "metadata": {},
   "outputs": [],
   "source": [
    "sum_ex = 0\n",
    "sum_in = 0\n",
    "time_inc = 0\n",
    "ex = []\n",
    "inh = []\n",
    "ratio = []\n",
    "df = pd.DataFrame([])\n",
    "df2 = pd.DataFrame([])\n",
    "df3 = pd.DataFrame([])\n",
    "for instance in range(3):   \n",
    "    for time in range(numTimePts):\n",
    "        for x in range(len(edge_vals[instance][time])):\n",
    "            if edge_vals[instance][time][x] >= 0:\n",
    "                sum_ex+=edge_vals[instance][time][x]\n",
    "            elif edge_vals[instance][time][x] < 0:\n",
    "                sum_in+=edge_vals[instance][time][x]\n",
    "        ex.append(sum_ex)\n",
    "        inh.append(sum_in)\n",
    "        ratio.append(sum_ex/sum_in)\n",
    "        sum_ex = 0\n",
    "        sum_in = 0\n",
    "    df.insert(instance, \"instance \" + str(instance), ex[time_inc:21 + time_inc])\n",
    "    df2.insert(instance, \"instance \" + str(instance), inh[time_inc:21 + time_inc])\n",
    "    df3.insert(instance, \"instance \" + str(instance), ratio[time_inc:21 + time_inc])\n",
    "    time_inc+=21\n",
    "        "
   ]
  },
  {
   "cell_type": "code",
   "execution_count": 70,
   "id": "1319ce3f",
   "metadata": {},
   "outputs": [
    {
     "data": {
      "text/html": [
       "<div>\n",
       "<style scoped>\n",
       "    .dataframe tbody tr th:only-of-type {\n",
       "        vertical-align: middle;\n",
       "    }\n",
       "\n",
       "    .dataframe tbody tr th {\n",
       "        vertical-align: top;\n",
       "    }\n",
       "\n",
       "    .dataframe thead th {\n",
       "        text-align: right;\n",
       "    }\n",
       "</style>\n",
       "<table border=\"1\" class=\"dataframe\">\n",
       "  <thead>\n",
       "    <tr style=\"text-align: right;\">\n",
       "      <th></th>\n",
       "      <th>instance 0</th>\n",
       "      <th>instance 1</th>\n",
       "      <th>instance 2</th>\n",
       "    </tr>\n",
       "  </thead>\n",
       "  <tbody>\n",
       "    <tr>\n",
       "      <th>0</th>\n",
       "      <td>7984.097255</td>\n",
       "      <td>7984.097255</td>\n",
       "      <td>7984.097255</td>\n",
       "    </tr>\n",
       "    <tr>\n",
       "      <th>1</th>\n",
       "      <td>7984.097255</td>\n",
       "      <td>7984.097255</td>\n",
       "      <td>7984.097228</td>\n",
       "    </tr>\n",
       "    <tr>\n",
       "      <th>2</th>\n",
       "      <td>7984.093360</td>\n",
       "      <td>7984.092862</td>\n",
       "      <td>7984.094694</td>\n",
       "    </tr>\n",
       "    <tr>\n",
       "      <th>3</th>\n",
       "      <td>7983.880413</td>\n",
       "      <td>7983.858887</td>\n",
       "      <td>7983.939855</td>\n",
       "    </tr>\n",
       "    <tr>\n",
       "      <th>4</th>\n",
       "      <td>7982.467239</td>\n",
       "      <td>7982.370387</td>\n",
       "      <td>7982.794919</td>\n",
       "    </tr>\n",
       "    <tr>\n",
       "      <th>5</th>\n",
       "      <td>7979.771528</td>\n",
       "      <td>7979.622399</td>\n",
       "      <td>7980.342469</td>\n",
       "    </tr>\n",
       "    <tr>\n",
       "      <th>6</th>\n",
       "      <td>7976.282339</td>\n",
       "      <td>7976.110513</td>\n",
       "      <td>7976.960256</td>\n",
       "    </tr>\n",
       "    <tr>\n",
       "      <th>7</th>\n",
       "      <td>7972.499355</td>\n",
       "      <td>7972.330924</td>\n",
       "      <td>7973.212962</td>\n",
       "    </tr>\n",
       "    <tr>\n",
       "      <th>8</th>\n",
       "      <td>7968.634126</td>\n",
       "      <td>7968.471638</td>\n",
       "      <td>7969.368899</td>\n",
       "    </tr>\n",
       "    <tr>\n",
       "      <th>9</th>\n",
       "      <td>7964.741447</td>\n",
       "      <td>7964.580087</td>\n",
       "      <td>7965.477651</td>\n",
       "    </tr>\n",
       "    <tr>\n",
       "      <th>10</th>\n",
       "      <td>7960.827814</td>\n",
       "      <td>7960.670486</td>\n",
       "      <td>7961.565492</td>\n",
       "    </tr>\n",
       "    <tr>\n",
       "      <th>11</th>\n",
       "      <td>7956.898843</td>\n",
       "      <td>7956.748747</td>\n",
       "      <td>7957.639847</td>\n",
       "    </tr>\n",
       "    <tr>\n",
       "      <th>12</th>\n",
       "      <td>7952.968474</td>\n",
       "      <td>7952.822647</td>\n",
       "      <td>7953.708693</td>\n",
       "    </tr>\n",
       "    <tr>\n",
       "      <th>13</th>\n",
       "      <td>7949.029144</td>\n",
       "      <td>7948.891489</td>\n",
       "      <td>7949.772311</td>\n",
       "    </tr>\n",
       "    <tr>\n",
       "      <th>14</th>\n",
       "      <td>7945.084086</td>\n",
       "      <td>7944.952360</td>\n",
       "      <td>7945.832072</td>\n",
       "    </tr>\n",
       "    <tr>\n",
       "      <th>15</th>\n",
       "      <td>7941.138517</td>\n",
       "      <td>7941.015751</td>\n",
       "      <td>7941.890284</td>\n",
       "    </tr>\n",
       "    <tr>\n",
       "      <th>16</th>\n",
       "      <td>7937.186332</td>\n",
       "      <td>7937.072534</td>\n",
       "      <td>7937.944128</td>\n",
       "    </tr>\n",
       "    <tr>\n",
       "      <th>17</th>\n",
       "      <td>7933.232449</td>\n",
       "      <td>7933.128171</td>\n",
       "      <td>7934.002792</td>\n",
       "    </tr>\n",
       "    <tr>\n",
       "      <th>18</th>\n",
       "      <td>7929.284528</td>\n",
       "      <td>7929.181691</td>\n",
       "      <td>7930.057514</td>\n",
       "    </tr>\n",
       "    <tr>\n",
       "      <th>19</th>\n",
       "      <td>7925.328592</td>\n",
       "      <td>7925.236300</td>\n",
       "      <td>7926.111332</td>\n",
       "    </tr>\n",
       "    <tr>\n",
       "      <th>20</th>\n",
       "      <td>7921.372939</td>\n",
       "      <td>7921.293845</td>\n",
       "      <td>7922.162893</td>\n",
       "    </tr>\n",
       "  </tbody>\n",
       "</table>\n",
       "</div>"
      ],
      "text/plain": [
       "     instance 0   instance 1   instance 2\n",
       "0   7984.097255  7984.097255  7984.097255\n",
       "1   7984.097255  7984.097255  7984.097228\n",
       "2   7984.093360  7984.092862  7984.094694\n",
       "3   7983.880413  7983.858887  7983.939855\n",
       "4   7982.467239  7982.370387  7982.794919\n",
       "5   7979.771528  7979.622399  7980.342469\n",
       "6   7976.282339  7976.110513  7976.960256\n",
       "7   7972.499355  7972.330924  7973.212962\n",
       "8   7968.634126  7968.471638  7969.368899\n",
       "9   7964.741447  7964.580087  7965.477651\n",
       "10  7960.827814  7960.670486  7961.565492\n",
       "11  7956.898843  7956.748747  7957.639847\n",
       "12  7952.968474  7952.822647  7953.708693\n",
       "13  7949.029144  7948.891489  7949.772311\n",
       "14  7945.084086  7944.952360  7945.832072\n",
       "15  7941.138517  7941.015751  7941.890284\n",
       "16  7937.186332  7937.072534  7937.944128\n",
       "17  7933.232449  7933.128171  7934.002792\n",
       "18  7929.284528  7929.181691  7930.057514\n",
       "19  7925.328592  7925.236300  7926.111332\n",
       "20  7921.372939  7921.293845  7922.162893"
      ]
     },
     "execution_count": 70,
     "metadata": {},
     "output_type": "execute_result"
    }
   ],
   "source": [
    "df"
   ]
  },
  {
   "cell_type": "code",
   "execution_count": 71,
   "id": "96778c0f",
   "metadata": {},
   "outputs": [
    {
     "data": {
      "text/html": [
       "<div>\n",
       "<style scoped>\n",
       "    .dataframe tbody tr th:only-of-type {\n",
       "        vertical-align: middle;\n",
       "    }\n",
       "\n",
       "    .dataframe tbody tr th {\n",
       "        vertical-align: top;\n",
       "    }\n",
       "\n",
       "    .dataframe thead th {\n",
       "        text-align: right;\n",
       "    }\n",
       "</style>\n",
       "<table border=\"1\" class=\"dataframe\">\n",
       "  <thead>\n",
       "    <tr style=\"text-align: right;\">\n",
       "      <th></th>\n",
       "      <th>instance 0</th>\n",
       "      <th>instance 1</th>\n",
       "      <th>instance 2</th>\n",
       "    </tr>\n",
       "  </thead>\n",
       "  <tbody>\n",
       "    <tr>\n",
       "      <th>0</th>\n",
       "      <td>-1951.789510</td>\n",
       "      <td>-1951.789510</td>\n",
       "      <td>-1951.789510</td>\n",
       "    </tr>\n",
       "    <tr>\n",
       "      <th>1</th>\n",
       "      <td>-1951.789510</td>\n",
       "      <td>-1951.789510</td>\n",
       "      <td>-1951.789510</td>\n",
       "    </tr>\n",
       "    <tr>\n",
       "      <th>2</th>\n",
       "      <td>-1951.789231</td>\n",
       "      <td>-1951.789378</td>\n",
       "      <td>-1951.789384</td>\n",
       "    </tr>\n",
       "    <tr>\n",
       "      <th>3</th>\n",
       "      <td>-1951.796770</td>\n",
       "      <td>-1951.796892</td>\n",
       "      <td>-1951.792262</td>\n",
       "    </tr>\n",
       "    <tr>\n",
       "      <th>4</th>\n",
       "      <td>-1951.892481</td>\n",
       "      <td>-1951.898053</td>\n",
       "      <td>-1951.866483</td>\n",
       "    </tr>\n",
       "    <tr>\n",
       "      <th>5</th>\n",
       "      <td>-1952.097750</td>\n",
       "      <td>-1952.105826</td>\n",
       "      <td>-1952.049864</td>\n",
       "    </tr>\n",
       "    <tr>\n",
       "      <th>6</th>\n",
       "      <td>-1952.372306</td>\n",
       "      <td>-1952.382500</td>\n",
       "      <td>-1952.314043</td>\n",
       "    </tr>\n",
       "    <tr>\n",
       "      <th>7</th>\n",
       "      <td>-1952.677576</td>\n",
       "      <td>-1952.686406</td>\n",
       "      <td>-1952.613853</td>\n",
       "    </tr>\n",
       "    <tr>\n",
       "      <th>8</th>\n",
       "      <td>-1952.992189</td>\n",
       "      <td>-1953.003240</td>\n",
       "      <td>-1952.927339</td>\n",
       "    </tr>\n",
       "    <tr>\n",
       "      <th>9</th>\n",
       "      <td>-1953.312695</td>\n",
       "      <td>-1953.323256</td>\n",
       "      <td>-1953.245954</td>\n",
       "    </tr>\n",
       "    <tr>\n",
       "      <th>10</th>\n",
       "      <td>-1953.634214</td>\n",
       "      <td>-1953.646014</td>\n",
       "      <td>-1953.569405</td>\n",
       "    </tr>\n",
       "    <tr>\n",
       "      <th>11</th>\n",
       "      <td>-1953.962484</td>\n",
       "      <td>-1953.971699</td>\n",
       "      <td>-1953.894916</td>\n",
       "    </tr>\n",
       "    <tr>\n",
       "      <th>12</th>\n",
       "      <td>-1954.290487</td>\n",
       "      <td>-1954.298968</td>\n",
       "      <td>-1954.222565</td>\n",
       "    </tr>\n",
       "    <tr>\n",
       "      <th>13</th>\n",
       "      <td>-1954.621866</td>\n",
       "      <td>-1954.626929</td>\n",
       "      <td>-1954.552590</td>\n",
       "    </tr>\n",
       "    <tr>\n",
       "      <th>14</th>\n",
       "      <td>-1954.953269</td>\n",
       "      <td>-1954.958306</td>\n",
       "      <td>-1954.886593</td>\n",
       "    </tr>\n",
       "    <tr>\n",
       "      <th>15</th>\n",
       "      <td>-1955.286089</td>\n",
       "      <td>-1955.290512</td>\n",
       "      <td>-1955.219111</td>\n",
       "    </tr>\n",
       "    <tr>\n",
       "      <th>16</th>\n",
       "      <td>-1955.624004</td>\n",
       "      <td>-1955.621691</td>\n",
       "      <td>-1955.552720</td>\n",
       "    </tr>\n",
       "    <tr>\n",
       "      <th>17</th>\n",
       "      <td>-1955.959798</td>\n",
       "      <td>-1955.955455</td>\n",
       "      <td>-1955.886514</td>\n",
       "    </tr>\n",
       "    <tr>\n",
       "      <th>18</th>\n",
       "      <td>-1956.292755</td>\n",
       "      <td>-1956.289200</td>\n",
       "      <td>-1956.221775</td>\n",
       "    </tr>\n",
       "    <tr>\n",
       "      <th>19</th>\n",
       "      <td>-1956.629296</td>\n",
       "      <td>-1956.621948</td>\n",
       "      <td>-1956.557064</td>\n",
       "    </tr>\n",
       "    <tr>\n",
       "      <th>20</th>\n",
       "      <td>-1956.966519</td>\n",
       "      <td>-1956.953640</td>\n",
       "      <td>-1956.892421</td>\n",
       "    </tr>\n",
       "  </tbody>\n",
       "</table>\n",
       "</div>"
      ],
      "text/plain": [
       "     instance 0   instance 1   instance 2\n",
       "0  -1951.789510 -1951.789510 -1951.789510\n",
       "1  -1951.789510 -1951.789510 -1951.789510\n",
       "2  -1951.789231 -1951.789378 -1951.789384\n",
       "3  -1951.796770 -1951.796892 -1951.792262\n",
       "4  -1951.892481 -1951.898053 -1951.866483\n",
       "5  -1952.097750 -1952.105826 -1952.049864\n",
       "6  -1952.372306 -1952.382500 -1952.314043\n",
       "7  -1952.677576 -1952.686406 -1952.613853\n",
       "8  -1952.992189 -1953.003240 -1952.927339\n",
       "9  -1953.312695 -1953.323256 -1953.245954\n",
       "10 -1953.634214 -1953.646014 -1953.569405\n",
       "11 -1953.962484 -1953.971699 -1953.894916\n",
       "12 -1954.290487 -1954.298968 -1954.222565\n",
       "13 -1954.621866 -1954.626929 -1954.552590\n",
       "14 -1954.953269 -1954.958306 -1954.886593\n",
       "15 -1955.286089 -1955.290512 -1955.219111\n",
       "16 -1955.624004 -1955.621691 -1955.552720\n",
       "17 -1955.959798 -1955.955455 -1955.886514\n",
       "18 -1956.292755 -1956.289200 -1956.221775\n",
       "19 -1956.629296 -1956.621948 -1956.557064\n",
       "20 -1956.966519 -1956.953640 -1956.892421"
      ]
     },
     "execution_count": 71,
     "metadata": {},
     "output_type": "execute_result"
    }
   ],
   "source": [
    "df2"
   ]
  },
  {
   "cell_type": "code",
   "execution_count": 89,
   "id": "df7b1920",
   "metadata": {},
   "outputs": [
    {
     "data": {
      "text/plain": [
       "-1951.7895102914924"
      ]
     },
     "execution_count": 89,
     "metadata": {},
     "output_type": "execute_result"
    }
   ],
   "source": [
    "np.sum(df_norm_in.iloc[0][0])"
   ]
  },
  {
   "cell_type": "code",
   "execution_count": 86,
   "id": "ec1e87c6",
   "metadata": {},
   "outputs": [
    {
     "data": {
      "text/plain": [
       "-0.9812918603778242"
      ]
     },
     "execution_count": 86,
     "metadata": {},
     "output_type": "execute_result"
    }
   ],
   "source": [
    "np.mean(df_norm_in.iloc[0][0])"
   ]
  },
  {
   "cell_type": "code",
   "execution_count": 88,
   "id": "b9fef664",
   "metadata": {},
   "outputs": [
    {
     "data": {
      "text/plain": [
       "-1956.966518931249"
      ]
     },
     "execution_count": 88,
     "metadata": {},
     "output_type": "execute_result"
    }
   ],
   "source": [
    "np.sum(df_norm_in.iloc[20][0])"
   ]
  },
  {
   "cell_type": "code",
   "execution_count": 87,
   "id": "11ef548d",
   "metadata": {
    "scrolled": false
   },
   "outputs": [
    {
     "data": {
      "text/plain": [
       "-0.9760431515866579"
      ]
     },
     "execution_count": 87,
     "metadata": {},
     "output_type": "execute_result"
    }
   ],
   "source": [
    "np.mean(df_norm_in.iloc[20][0])"
   ]
  },
  {
   "cell_type": "code",
   "execution_count": 103,
   "id": "094d95a7",
   "metadata": {},
   "outputs": [
    {
     "name": "stdout",
     "output_type": "stream",
     "text": [
      "0\n",
      "0\n",
      "0\n",
      "0\n",
      "0\n",
      "1\n",
      "1\n",
      "2\n",
      "3\n",
      "4\n",
      "4\n",
      "8\n",
      "10\n",
      "11\n",
      "12\n",
      "14\n",
      "14\n",
      "14\n",
      "14\n",
      "15\n"
     ]
    }
   ],
   "source": [
    "for x in range(20):\n",
    "    print(len(df_norm_in.iloc[x][0]) - 1989)\n"
   ]
  },
  {
   "cell_type": "code",
   "execution_count": 97,
   "id": "38c11139",
   "metadata": {},
   "outputs": [
    {
     "data": {
      "text/plain": [
       "7895"
      ]
     },
     "execution_count": 97,
     "metadata": {},
     "output_type": "execute_result"
    }
   ],
   "source": [
    "len(df_norm_in.iloc[20][0])"
   ]
  },
  {
   "cell_type": "code",
   "execution_count": 94,
   "id": "52d24f33",
   "metadata": {},
   "outputs": [
    {
     "data": {
      "text/plain": [
       "-0.9760431515866579"
      ]
     },
     "execution_count": 94,
     "metadata": {},
     "output_type": "execute_result"
    }
   ],
   "source": [
    "-1956.966518931249/2005"
   ]
  },
  {
   "cell_type": "code",
   "execution_count": 91,
   "id": "b92ae995",
   "metadata": {},
   "outputs": [
    {
     "data": {
      "text/plain": [
       "-0.9812918603778242"
      ]
     },
     "execution_count": 91,
     "metadata": {},
     "output_type": "execute_result"
    }
   ],
   "source": [
    "-1951.7895102914924/1989"
   ]
  },
  {
   "cell_type": "code",
   "execution_count": 8,
   "id": "784f7c1c",
   "metadata": {},
   "outputs": [],
   "source": [
    "norm_ex = []\n",
    "norm_in = []\n",
    "time_inc = 0\n",
    "ex_1 = []\n",
    "inh_1 = []\n",
    "df_norm_ex = pd.DataFrame([])\n",
    "df_norm_in = pd.DataFrame([])\n",
    "\n",
    "for instance in range(3):   \n",
    "    for time in range(numTimePts):\n",
    "        for x in range(len(edge_vals[instance][time])):\n",
    "            if edge_vals[instance][time][x] >= 0:\n",
    "                norm_ex.append(edge_vals[instance][time][x])\n",
    "            elif edge_vals[instance][time][x] < 0:\n",
    "                norm_in.append(edge_vals[instance][time][x])\n",
    "        ex_1.append(norm_ex)\n",
    "        inh_1.append(norm_in)\n",
    "        norm_ex = []\n",
    "        norm_in = []\n",
    "    df_norm_ex.insert(instance, \"instance \" + str(instance), ex_1[time_inc:21 + time_inc])\n",
    "    df_norm_in.insert(instance, \"instance \" + str(instance), inh_1[time_inc:21 + time_inc])\n",
    "    time_inc+=21\n",
    "        "
   ]
  },
  {
   "cell_type": "code",
   "execution_count": 18,
   "id": "dab471d1",
   "metadata": {},
   "outputs": [],
   "source": [
    "weight_change = []\n",
    "for x in range(len(df_norm_ex)):\n",
    "    weight_change.append(np.mean(df_norm_ex.iloc[x][0]))"
   ]
  },
  {
   "cell_type": "code",
   "execution_count": 22,
   "id": "1917c187",
   "metadata": {},
   "outputs": [],
   "source": [
    "weight_change_inh = []\n",
    "for x in range(len(df_norm_in)):\n",
    "    weight_change_inh.append(np.mean(df_norm_in.iloc[x][0]))"
   ]
  },
  {
   "cell_type": "code",
   "execution_count": 19,
   "id": "f6f7cbfd",
   "metadata": {},
   "outputs": [
    {
     "data": {
      "image/png": "[encoded data removed]",
      "text/plain": [
       "<Figure size 432x288 with 1 Axes>"
      ]
     },
     "metadata": {
      "needs_background": "light"
     },
     "output_type": "display_data"
    }
   ],
   "source": [
    "import matplotlib.pyplot as plt\n",
    "import numpy as np\n",
    "\n",
    "plt.plot(np.arange(21), weight_change)\n",
    "plt.xlabel(\"Time (10^-1)\")\n",
    "plt.ylabel(\"Average Edge Weight\")\n",
    "plt.title(\"Average Edge Weight Over Time\")\n",
    "plt.savefig(\"Weight over time 0\")"
   ]
  },
  {
   "cell_type": "code",
   "execution_count": 24,
   "id": "76c0d043",
   "metadata": {},
   "outputs": [
    {
     "data": {
      "text/plain": [
       "Text(0.5, 1.0, 'Average Edge Weight Over Time')"
      ]
     },
     "execution_count": 24,
     "metadata": {},
     "output_type": "execute_result"
    },
    {
     "data": {
      "image/png": "[encoded data removed]",
      "text/plain": [
       "<Figure size 432x288 with 1 Axes>"
      ]
     },
     "metadata": {
      "needs_background": "light"
     },
     "output_type": "display_data"
    }
   ],
   "source": [
    "import matplotlib.pyplot as plt\n",
    "import numpy as np\n",
    "\n",
    "plt.plot(np.arange(21), weight_change_inh)\n",
    "plt.xlabel(\"Time (10^-1)\")\n",
    "plt.ylabel(\"Average Edge Weight\")\n",
    "plt.title(\"Average Edge Weight Over Time\")"
   ]
  },
  {
   "cell_type": "code",
   "execution_count": 38,
   "id": "3ea3f467",
   "metadata": {},
   "outputs": [
    {
     "data": {
      "text/plain": [
       "Text(0.5, 1.0, 'Average Edge Weight Over Time')"
      ]
     },
     "execution_count": 38,
     "metadata": {},
     "output_type": "execute_result"
    },
    {
     "data": {
      "image/png": "[encoded data removed]",
      "text/plain": [
       "<Figure size 432x288 with 1 Axes>"
      ]
     },
     "metadata": {
      "needs_background": "light"
     },
     "output_type": "display_data"
    }
   ],
   "source": [
    "import matplotlib.pyplot as plt\n",
    "import numpy as np\n",
    "\n",
    "plt.plot(np.arange(21), weight_change)\n",
    "plt.xlabel(\"Time (10^-1)\")\n",
    "plt.ylabel(\"Average Edge Weight\")\n",
    "plt.title(\"Average Edge Weight Over Time\")"
   ]
  },
  {
   "cell_type": "code",
   "execution_count": 43,
   "id": "015355ce",
   "metadata": {},
   "outputs": [
    {
     "data": {
      "text/plain": [
       "Text(0.5, 1.0, 'Average Edge Weight Over Time')"
      ]
     },
     "execution_count": 43,
     "metadata": {},
     "output_type": "execute_result"
    },
    {
     "data": {
      "image/png": "[encoded data removed]",
      "text/plain": [
       "<Figure size 432x288 with 1 Axes>"
      ]
     },
     "metadata": {
      "needs_background": "light"
     },
     "output_type": "display_data"
    }
   ],
   "source": [
    "import matplotlib.pyplot as plt\n",
    "import numpy as np\n",
    "\n",
    "plt.plot(np.arange(21), weight_change_inh)\n",
    "plt.xlabel(\"Time (10^-1)\")\n",
    "plt.ylabel(\"Average Edge Weight\")\n",
    "plt.title(\"Average Edge Weight Over Time\")"
   ]
  },
  {
   "cell_type": "code",
   "execution_count": 47,
   "id": "7b26e748",
   "metadata": {},
   "outputs": [
    {
     "data": {
      "text/plain": [
       "Text(0.5, 1.0, 'Average Edge Weight Over Time')"
      ]
     },
     "execution_count": 47,
     "metadata": {},
     "output_type": "execute_result"
    },
    {
     "data": {
      "image/png": "[encoded data removed]",
      "text/plain": [
       "<Figure size 432x288 with 1 Axes>"
      ]
     },
     "metadata": {
      "needs_background": "light"
     },
     "output_type": "display_data"
    }
   ],
   "source": [
    "import matplotlib.pyplot as plt\n",
    "import numpy as np\n",
    "\n",
    "plt.plot(np.arange(21), weight_change)\n",
    "plt.xlabel(\"Time (10^-1)\")\n",
    "plt.ylabel(\"Average Edge Weight\")\n",
    "plt.title(\"Average Edge Weight Over Time\")"
   ]
  },
  {
   "cell_type": "code",
   "execution_count": 46,
   "id": "51d2fe86",
   "metadata": {},
   "outputs": [
    {
     "data": {
      "text/plain": [
       "Text(0.5, 1.0, 'Average Edge Weight Over Time')"
      ]
     },
     "execution_count": 46,
     "metadata": {},
     "output_type": "execute_result"
    },
    {
     "data": {
      "image/png": "[encoded data removed]",
      "text/plain": [
       "<Figure size 432x288 with 1 Axes>"
      ]
     },
     "metadata": {
      "needs_background": "light"
     },
     "output_type": "display_data"
    }
   ],
   "source": [
    "import matplotlib.pyplot as plt\n",
    "import numpy as np\n",
    "\n",
    "plt.plot(np.arange(21), weight_change_inh)\n",
    "plt.xlabel(\"Time (10^-1)\")\n",
    "plt.ylabel(\"Average Edge Weight\")\n",
    "plt.title(\"Average Edge Weight Over Time\")"
   ]
  },
  {
   "cell_type": "code",
   "execution_count": 48,
   "id": "3e3191d8",
   "metadata": {},
   "outputs": [
    {
     "data": {
      "text/plain": [
       "[-0.9812918603778242,\n",
       " -0.9812918603778242,\n",
       " -0.9812917969998649,\n",
       " -0.981293243602682,\n",
       " -0.9813305595318782,\n",
       " -0.9809295799999249,\n",
       " -0.9810623333174676,\n",
       " -0.9812129915797629,\n",
       " -0.9808776185839125,\n",
       " -0.9805451577370901,\n",
       " -0.9802154566299401,\n",
       " -0.979395947871756,\n",
       " -0.9780893719761203,\n",
       " -0.9772762948545416,\n",
       " -0.9769548191376307,\n",
       " -0.976145337455195,\n",
       " -0.9763118920777847,\n",
       " -0.9759912742172518,\n",
       " -0.9761585703319496,\n",
       " -0.9763258802080413,\n",
       " -0.976493224243619]"
      ]
     },
     "execution_count": 48,
     "metadata": {},
     "output_type": "execute_result"
    }
   ],
   "source": [
    "weight_change_inh"
   ]
  },
  {
   "cell_type": "code",
   "execution_count": 25,
   "id": "59b25234",
   "metadata": {},
   "outputs": [
    {
     "data": {
      "text/plain": [
       "-0.9760431515866579"
      ]
     },
     "execution_count": 25,
     "metadata": {},
     "output_type": "execute_result"
    }
   ],
   "source": [
    "np.mean(df_norm_in.iloc[20][0])"
   ]
  },
  {
   "cell_type": "code",
   "execution_count": 104,
   "id": "d7fad865",
   "metadata": {},
   "outputs": [],
   "source": [
    "df_norm_ex_t = df_norm_ex\n",
    "df_norm_ex_t.insert(0, \"time\", np.arange(0,21))\n",
    "df_norm_ex_t = df_norm_ex_t.T"
   ]
  },
  {
   "cell_type": "code",
   "execution_count": 105,
   "id": "11474282",
   "metadata": {},
   "outputs": [],
   "source": [
    "df_norm_in_t = df_norm_in\n",
    "df_norm_in_t.insert(0, \"time\", np.arange(0,21))\n",
    "df_norm_in_t = df_norm_in_t.T"
   ]
  },
  {
   "cell_type": "code",
   "execution_count": 106,
   "id": "099e1fd2",
   "metadata": {},
   "outputs": [
    {
     "data": {
      "image/png": "[encoded data removed]",
      "text/plain": [
       "<Figure size 1080x360 with 1 Axes>"
      ]
     },
     "metadata": {},
     "output_type": "display_data"
    }
   ],
   "source": [
    "import numpy as np\n",
    "import seaborn as sns\n",
    "import matplotlib.pyplot as plt\n",
    "\n",
    "sns.set_theme(rc={'figure.figsize':(15,5)})\n",
    "ax = sns.boxplot(data=df_norm_in_t.iloc[1])\n",
    "ax.set_title(\"Inhibitory Edge Weights\")\n",
    "ax.set_xlabel(\"Time (10^-1)\")\n",
    "ax.set_ylabel(\"Edge Weight\")\n",
    "plt.tight_layout()\n",
    "plt.savefig(\"inh_overall_2\")"
   ]
  },
  {
   "cell_type": "code",
   "execution_count": 91,
   "id": "383f885f",
   "metadata": {},
   "outputs": [
    {
     "data": {
      "image/png": "[encoded data removed]",
      "text/plain": [
       "<Figure size 1080x360 with 1 Axes>"
      ]
     },
     "metadata": {},
     "output_type": "display_data"
    }
   ],
   "source": [
    "import numpy as np\n",
    "import seaborn as sns\n",
    "sns.set_theme(rc={'figure.figsize':(15,5)})\n",
    "ax = sns.boxplot(data=df_norm_ex_t.iloc[1])\n",
    "ax.set_title(\"Excitatory Edge Weights\")\n",
    "ax.set_xlabel(\"Time (10^-1)\")\n",
    "ax.set_ylabel(\"Edge Weight\")\n",
    "plt.tight_layout()\n",
    "plt.savefig(\"ex_overall_2\")"
   ]
  },
  {
   "cell_type": "code",
   "execution_count": 110,
   "id": "b6a7a238",
   "metadata": {},
   "outputs": [
    {
     "data": {
      "text/plain": [
       "1.003340460977956"
      ]
     },
     "execution_count": 110,
     "metadata": {},
     "output_type": "execute_result"
    }
   ],
   "source": [
    "np.mean(df_norm_ex_t.iloc[1][20])"
   ]
  },
  {
   "cell_type": "code",
   "execution_count": 284,
   "id": "0d4a9981",
   "metadata": {},
   "outputs": [
    {
     "data": {
      "image/png": "[encoded data removed]",
      "text/plain": [
       "<Figure size 360x595.44 with 1 Axes>"
      ]
     },
     "metadata": {},
     "output_type": "display_data"
    }
   ],
   "source": [
    "import matplotlib.pyplot as plt\n",
    "import seaborn as sns\n",
    "sns.set_theme(style=\"whitegrid\", rc={'figure.figsize':(5,8.27)})\n",
    "tips = sns.load_dataset(\"tips\")\n",
    "ax = sns.boxplot(y=ex)\n",
    "ax.set_title(\"Summary of Excitatory Edge Weights\")\n",
    "ax.set_xlabel(\"10,000 Instances\")\n",
    "ax.set_ylabel(\"Summed Edge Weight\")\n",
    "plt.tight_layout()\n",
    "plt.savefig(\"ex\")"
   ]
  },
  {
   "cell_type": "code",
   "execution_count": 285,
   "id": "325457e4",
   "metadata": {},
   "outputs": [
    {
     "data": {
      "image/png": "[encoded data removed]",
      "text/plain": [
       "<Figure size 360x595.44 with 1 Axes>"
      ]
     },
     "metadata": {},
     "output_type": "display_data"
    }
   ],
   "source": [
    "import matplotlib.pyplot as plt\n",
    "import seaborn as sns\n",
    "sns.set_theme(style=\"whitegrid\", rc={'figure.figsize':(5,8.27)})\n",
    "tips = sns.load_dataset(\"tips\")\n",
    "ax = sns.boxplot(y=inh)\n",
    "ax.set_title(\"Summary of Inhibitory Edge Weights\")\n",
    "ax.set_xlabel(\"10,000 Instances\")\n",
    "ax.set_ylabel(\"Summed Edge Weight\")\n",
    "plt.tight_layout()\n",
    "plt.savefig(\"inh\")"
   ]
  },
  {
   "cell_type": "code",
   "execution_count": 286,
   "id": "50946483",
   "metadata": {},
   "outputs": [
    {
     "data": {
      "image/png": "[encoded data removed]",
      "text/plain": [
       "<Figure size 360x595.44 with 1 Axes>"
      ]
     },
     "metadata": {},
     "output_type": "display_data"
    }
   ],
   "source": [
    "import matplotlib.pyplot as plt\n",
    "import seaborn as sns\n",
    "sns.set_theme(style=\"whitegrid\", rc={'figure.figsize':(5,8.27)})\n",
    "tips = sns.load_dataset(\"tips\")\n",
    "ax = sns.boxplot(y=ratio)\n",
    "ax.set_title(\"Summary of E/I\")\n",
    "ax.set_xlabel(\"10,000 Instances\")\n",
    "ax.set_ylabel(\"Ratio\")\n",
    "plt.tight_layout()\n",
    "plt.savefig(\"ratio\")"
   ]
  },
  {
   "cell_type": "code",
   "execution_count": 16,
   "id": "bd65ffb3",
   "metadata": {},
   "outputs": [
    {
     "data": {
      "image/png": "[encoded data removed]",
      "text/plain": [
       "<Figure size 720x360 with 1 Axes>"
      ]
     },
     "metadata": {
      "needs_background": "light"
     },
     "output_type": "display_data"
    }
   ],
   "source": [
    "import matplotlib.pyplot as plt\n",
    "x = np.arange(21)\n",
    "plt.figure(figsize=(10,5)) \n",
    "plt.plot(x, df[\"instance 0\"])\n",
    "plt.title(\"Sum Of Excitatory Edge Weights Over 2 Seconds\")\n",
    "plt.xlabel(\"Time (10^-1)\")\n",
    "plt.locator_params(axis=\"both\", integer=True, tight=True)\n",
    "plt.xticks(np.arange(min(x), max(x)+1, 1.0))\n",
    "plt.ylabel(\"Summed Edge Weight\")\n",
    "plt.tight_layout()\n",
    "#plt.savefig(\"ex_time\")\n",
    "plt.show()"
   ]
  },
  {
   "cell_type": "code",
   "execution_count": 13,
   "id": "13219aa8",
   "metadata": {},
   "outputs": [
    {
     "data": {
      "text/plain": [
       "0     7984.097255\n",
       "1     7984.097255\n",
       "2     7984.093360\n",
       "3     7983.880413\n",
       "4     7982.467239\n",
       "5     7979.771528\n",
       "6     7976.282339\n",
       "7     7972.499355\n",
       "8     7968.634126\n",
       "9     7964.741447\n",
       "10    7960.827814\n",
       "11    7956.898843\n",
       "12    7952.968474\n",
       "13    7949.029144\n",
       "14    7945.084086\n",
       "15    7941.138517\n",
       "16    7937.186332\n",
       "17    7933.232449\n",
       "18    7929.284528\n",
       "19    7925.328592\n",
       "20    7921.372939\n",
       "Name: instance 0, dtype: float64"
      ]
     },
     "execution_count": 13,
     "metadata": {},
     "output_type": "execute_result"
    }
   ],
   "source": [
    "df[\"instance 0\"]"
   ]
  },
  {
   "cell_type": "code",
   "execution_count": 14,
   "id": "4667ff71",
   "metadata": {},
   "outputs": [
    {
     "data": {
      "text/html": [
       "<div>\n",
       "<style scoped>\n",
       "    .dataframe tbody tr th:only-of-type {\n",
       "        vertical-align: middle;\n",
       "    }\n",
       "\n",
       "    .dataframe tbody tr th {\n",
       "        vertical-align: top;\n",
       "    }\n",
       "\n",
       "    .dataframe thead th {\n",
       "        text-align: right;\n",
       "    }\n",
       "</style>\n",
       "<table border=\"1\" class=\"dataframe\">\n",
       "  <thead>\n",
       "    <tr style=\"text-align: right;\">\n",
       "      <th></th>\n",
       "      <th>instance 0</th>\n",
       "      <th>instance 1</th>\n",
       "      <th>instance 2</th>\n",
       "    </tr>\n",
       "  </thead>\n",
       "  <tbody>\n",
       "    <tr>\n",
       "      <th>0</th>\n",
       "      <td>7984.097255</td>\n",
       "      <td>7984.097255</td>\n",
       "      <td>7984.097255</td>\n",
       "    </tr>\n",
       "    <tr>\n",
       "      <th>1</th>\n",
       "      <td>7984.097255</td>\n",
       "      <td>7984.097255</td>\n",
       "      <td>7984.097228</td>\n",
       "    </tr>\n",
       "    <tr>\n",
       "      <th>2</th>\n",
       "      <td>7984.093360</td>\n",
       "      <td>7984.092862</td>\n",
       "      <td>7984.094694</td>\n",
       "    </tr>\n",
       "    <tr>\n",
       "      <th>3</th>\n",
       "      <td>7983.880413</td>\n",
       "      <td>7983.858887</td>\n",
       "      <td>7983.939855</td>\n",
       "    </tr>\n",
       "    <tr>\n",
       "      <th>4</th>\n",
       "      <td>7982.467239</td>\n",
       "      <td>7982.370387</td>\n",
       "      <td>7982.794919</td>\n",
       "    </tr>\n",
       "    <tr>\n",
       "      <th>5</th>\n",
       "      <td>7979.771528</td>\n",
       "      <td>7979.622399</td>\n",
       "      <td>7980.342469</td>\n",
       "    </tr>\n",
       "    <tr>\n",
       "      <th>6</th>\n",
       "      <td>7976.282339</td>\n",
       "      <td>7976.110513</td>\n",
       "      <td>7976.960256</td>\n",
       "    </tr>\n",
       "    <tr>\n",
       "      <th>7</th>\n",
       "      <td>7972.499355</td>\n",
       "      <td>7972.330924</td>\n",
       "      <td>7973.212962</td>\n",
       "    </tr>\n",
       "    <tr>\n",
       "      <th>8</th>\n",
       "      <td>7968.634126</td>\n",
       "      <td>7968.471638</td>\n",
       "      <td>7969.368899</td>\n",
       "    </tr>\n",
       "    <tr>\n",
       "      <th>9</th>\n",
       "      <td>7964.741447</td>\n",
       "      <td>7964.580087</td>\n",
       "      <td>7965.477651</td>\n",
       "    </tr>\n",
       "    <tr>\n",
       "      <th>10</th>\n",
       "      <td>7960.827814</td>\n",
       "      <td>7960.670486</td>\n",
       "      <td>7961.565492</td>\n",
       "    </tr>\n",
       "    <tr>\n",
       "      <th>11</th>\n",
       "      <td>7956.898843</td>\n",
       "      <td>7956.748747</td>\n",
       "      <td>7957.639847</td>\n",
       "    </tr>\n",
       "    <tr>\n",
       "      <th>12</th>\n",
       "      <td>7952.968474</td>\n",
       "      <td>7952.822647</td>\n",
       "      <td>7953.708693</td>\n",
       "    </tr>\n",
       "    <tr>\n",
       "      <th>13</th>\n",
       "      <td>7949.029144</td>\n",
       "      <td>7948.891489</td>\n",
       "      <td>7949.772311</td>\n",
       "    </tr>\n",
       "    <tr>\n",
       "      <th>14</th>\n",
       "      <td>7945.084086</td>\n",
       "      <td>7944.952360</td>\n",
       "      <td>7945.832072</td>\n",
       "    </tr>\n",
       "    <tr>\n",
       "      <th>15</th>\n",
       "      <td>7941.138517</td>\n",
       "      <td>7941.015751</td>\n",
       "      <td>7941.890284</td>\n",
       "    </tr>\n",
       "    <tr>\n",
       "      <th>16</th>\n",
       "      <td>7937.186332</td>\n",
       "      <td>7937.072534</td>\n",
       "      <td>7937.944128</td>\n",
       "    </tr>\n",
       "    <tr>\n",
       "      <th>17</th>\n",
       "      <td>7933.232449</td>\n",
       "      <td>7933.128171</td>\n",
       "      <td>7934.002792</td>\n",
       "    </tr>\n",
       "    <tr>\n",
       "      <th>18</th>\n",
       "      <td>7929.284528</td>\n",
       "      <td>7929.181691</td>\n",
       "      <td>7930.057514</td>\n",
       "    </tr>\n",
       "    <tr>\n",
       "      <th>19</th>\n",
       "      <td>7925.328592</td>\n",
       "      <td>7925.236300</td>\n",
       "      <td>7926.111332</td>\n",
       "    </tr>\n",
       "    <tr>\n",
       "      <th>20</th>\n",
       "      <td>7921.372939</td>\n",
       "      <td>7921.293845</td>\n",
       "      <td>7922.162893</td>\n",
       "    </tr>\n",
       "  </tbody>\n",
       "</table>\n",
       "</div>"
      ],
      "text/plain": [
       "     instance 0   instance 1   instance 2\n",
       "0   7984.097255  7984.097255  7984.097255\n",
       "1   7984.097255  7984.097255  7984.097228\n",
       "2   7984.093360  7984.092862  7984.094694\n",
       "3   7983.880413  7983.858887  7983.939855\n",
       "4   7982.467239  7982.370387  7982.794919\n",
       "5   7979.771528  7979.622399  7980.342469\n",
       "6   7976.282339  7976.110513  7976.960256\n",
       "7   7972.499355  7972.330924  7973.212962\n",
       "8   7968.634126  7968.471638  7969.368899\n",
       "9   7964.741447  7964.580087  7965.477651\n",
       "10  7960.827814  7960.670486  7961.565492\n",
       "11  7956.898843  7956.748747  7957.639847\n",
       "12  7952.968474  7952.822647  7953.708693\n",
       "13  7949.029144  7948.891489  7949.772311\n",
       "14  7945.084086  7944.952360  7945.832072\n",
       "15  7941.138517  7941.015751  7941.890284\n",
       "16  7937.186332  7937.072534  7937.944128\n",
       "17  7933.232449  7933.128171  7934.002792\n",
       "18  7929.284528  7929.181691  7930.057514\n",
       "19  7925.328592  7925.236300  7926.111332\n",
       "20  7921.372939  7921.293845  7922.162893"
      ]
     },
     "execution_count": 14,
     "metadata": {},
     "output_type": "execute_result"
    }
   ],
   "source": [
    "df"
   ]
  },
  {
   "cell_type": "code",
   "execution_count": 21,
   "id": "f2f61dda",
   "metadata": {},
   "outputs": [
    {
     "data": {
      "text/html": [
       "<div>\n",
       "<style scoped>\n",
       "    .dataframe tbody tr th:only-of-type {\n",
       "        vertical-align: middle;\n",
       "    }\n",
       "\n",
       "    .dataframe tbody tr th {\n",
       "        vertical-align: top;\n",
       "    }\n",
       "\n",
       "    .dataframe thead th {\n",
       "        text-align: right;\n",
       "    }\n",
       "</style>\n",
       "<table border=\"1\" class=\"dataframe\">\n",
       "  <thead>\n",
       "    <tr style=\"text-align: right;\">\n",
       "      <th></th>\n",
       "      <th>instance 0</th>\n",
       "      <th>instance 1</th>\n",
       "      <th>instance 2</th>\n",
       "    </tr>\n",
       "  </thead>\n",
       "  <tbody>\n",
       "    <tr>\n",
       "      <th>0</th>\n",
       "      <td>-1951.789510</td>\n",
       "      <td>-1951.789510</td>\n",
       "      <td>-1951.789510</td>\n",
       "    </tr>\n",
       "    <tr>\n",
       "      <th>1</th>\n",
       "      <td>-1951.789510</td>\n",
       "      <td>-1951.789510</td>\n",
       "      <td>-1951.789510</td>\n",
       "    </tr>\n",
       "    <tr>\n",
       "      <th>2</th>\n",
       "      <td>-1951.789231</td>\n",
       "      <td>-1951.789378</td>\n",
       "      <td>-1951.789384</td>\n",
       "    </tr>\n",
       "    <tr>\n",
       "      <th>3</th>\n",
       "      <td>-1951.796770</td>\n",
       "      <td>-1951.796892</td>\n",
       "      <td>-1951.792262</td>\n",
       "    </tr>\n",
       "    <tr>\n",
       "      <th>4</th>\n",
       "      <td>-1951.892481</td>\n",
       "      <td>-1951.898053</td>\n",
       "      <td>-1951.866483</td>\n",
       "    </tr>\n",
       "    <tr>\n",
       "      <th>5</th>\n",
       "      <td>-1952.097750</td>\n",
       "      <td>-1952.105826</td>\n",
       "      <td>-1952.049864</td>\n",
       "    </tr>\n",
       "    <tr>\n",
       "      <th>6</th>\n",
       "      <td>-1952.372306</td>\n",
       "      <td>-1952.382500</td>\n",
       "      <td>-1952.314043</td>\n",
       "    </tr>\n",
       "    <tr>\n",
       "      <th>7</th>\n",
       "      <td>-1952.677576</td>\n",
       "      <td>-1952.686406</td>\n",
       "      <td>-1952.613853</td>\n",
       "    </tr>\n",
       "    <tr>\n",
       "      <th>8</th>\n",
       "      <td>-1952.992189</td>\n",
       "      <td>-1953.003240</td>\n",
       "      <td>-1952.927339</td>\n",
       "    </tr>\n",
       "    <tr>\n",
       "      <th>9</th>\n",
       "      <td>-1953.312695</td>\n",
       "      <td>-1953.323256</td>\n",
       "      <td>-1953.245954</td>\n",
       "    </tr>\n",
       "    <tr>\n",
       "      <th>10</th>\n",
       "      <td>-1953.634214</td>\n",
       "      <td>-1953.646014</td>\n",
       "      <td>-1953.569405</td>\n",
       "    </tr>\n",
       "    <tr>\n",
       "      <th>11</th>\n",
       "      <td>-1953.962484</td>\n",
       "      <td>-1953.971699</td>\n",
       "      <td>-1953.894916</td>\n",
       "    </tr>\n",
       "    <tr>\n",
       "      <th>12</th>\n",
       "      <td>-1954.290487</td>\n",
       "      <td>-1954.298968</td>\n",
       "      <td>-1954.222565</td>\n",
       "    </tr>\n",
       "    <tr>\n",
       "      <th>13</th>\n",
       "      <td>-1954.621866</td>\n",
       "      <td>-1954.626929</td>\n",
       "      <td>-1954.552590</td>\n",
       "    </tr>\n",
       "    <tr>\n",
       "      <th>14</th>\n",
       "      <td>-1954.953269</td>\n",
       "      <td>-1954.958306</td>\n",
       "      <td>-1954.886593</td>\n",
       "    </tr>\n",
       "    <tr>\n",
       "      <th>15</th>\n",
       "      <td>-1955.286089</td>\n",
       "      <td>-1955.290512</td>\n",
       "      <td>-1955.219111</td>\n",
       "    </tr>\n",
       "    <tr>\n",
       "      <th>16</th>\n",
       "      <td>-1955.624004</td>\n",
       "      <td>-1955.621691</td>\n",
       "      <td>-1955.552720</td>\n",
       "    </tr>\n",
       "    <tr>\n",
       "      <th>17</th>\n",
       "      <td>-1955.959798</td>\n",
       "      <td>-1955.955455</td>\n",
       "      <td>-1955.886514</td>\n",
       "    </tr>\n",
       "    <tr>\n",
       "      <th>18</th>\n",
       "      <td>-1956.292755</td>\n",
       "      <td>-1956.289200</td>\n",
       "      <td>-1956.221775</td>\n",
       "    </tr>\n",
       "    <tr>\n",
       "      <th>19</th>\n",
       "      <td>-1956.629296</td>\n",
       "      <td>-1956.621948</td>\n",
       "      <td>-1956.557064</td>\n",
       "    </tr>\n",
       "    <tr>\n",
       "      <th>20</th>\n",
       "      <td>-1956.966519</td>\n",
       "      <td>-1956.953640</td>\n",
       "      <td>-1956.892421</td>\n",
       "    </tr>\n",
       "  </tbody>\n",
       "</table>\n",
       "</div>"
      ],
      "text/plain": [
       "     instance 0   instance 1   instance 2\n",
       "0  -1951.789510 -1951.789510 -1951.789510\n",
       "1  -1951.789510 -1951.789510 -1951.789510\n",
       "2  -1951.789231 -1951.789378 -1951.789384\n",
       "3  -1951.796770 -1951.796892 -1951.792262\n",
       "4  -1951.892481 -1951.898053 -1951.866483\n",
       "5  -1952.097750 -1952.105826 -1952.049864\n",
       "6  -1952.372306 -1952.382500 -1952.314043\n",
       "7  -1952.677576 -1952.686406 -1952.613853\n",
       "8  -1952.992189 -1953.003240 -1952.927339\n",
       "9  -1953.312695 -1953.323256 -1953.245954\n",
       "10 -1953.634214 -1953.646014 -1953.569405\n",
       "11 -1953.962484 -1953.971699 -1953.894916\n",
       "12 -1954.290487 -1954.298968 -1954.222565\n",
       "13 -1954.621866 -1954.626929 -1954.552590\n",
       "14 -1954.953269 -1954.958306 -1954.886593\n",
       "15 -1955.286089 -1955.290512 -1955.219111\n",
       "16 -1955.624004 -1955.621691 -1955.552720\n",
       "17 -1955.959798 -1955.955455 -1955.886514\n",
       "18 -1956.292755 -1956.289200 -1956.221775\n",
       "19 -1956.629296 -1956.621948 -1956.557064\n",
       "20 -1956.966519 -1956.953640 -1956.892421"
      ]
     },
     "execution_count": 21,
     "metadata": {},
     "output_type": "execute_result"
    }
   ],
   "source": [
    "df2"
   ]
  },
  {
   "cell_type": "code",
   "execution_count": 20,
   "id": "8a2e12ba",
   "metadata": {
    "scrolled": true
   },
   "outputs": [
    {
     "data": {
      "image/png": "[encoded data removed]",
      "text/plain": [
       "<Figure size 720x360 with 1 Axes>"
      ]
     },
     "metadata": {
      "needs_background": "light"
     },
     "output_type": "display_data"
    }
   ],
   "source": [
    "x = np.arange(21)\n",
    "plt.figure(figsize=(10,5)) \n",
    "plt.plot(x, df2[\"instance 0\"])\n",
    "plt.title(\"Sum Of Inhibitory Edge Weights Over 2 Seconds\")\n",
    "plt.xlabel(\"Time (10^-1)\")\n",
    "plt.locator_params(axis=\"both\", integer=True, tight=True)\n",
    "plt.xticks(np.arange(min(x), max(x)+1, 1.0))\n",
    "plt.ylabel(\"Summed Edge Weight\")\n",
    "plt.tight_layout()\n",
    "plt.savefig(\"Inst_2_inh_time\")\n",
    "plt.show()"
   ]
  },
  {
   "cell_type": "code",
   "execution_count": 296,
   "id": "0d38d4f7",
   "metadata": {
    "scrolled": true
   },
   "outputs": [
    {
     "data": {
      "image/png": "[encoded data removed]",
      "text/plain": [
       "<Figure size 720x360 with 1 Axes>"
      ]
     },
     "metadata": {},
     "output_type": "display_data"
    }
   ],
   "source": [
    "x = np.arange(21)\n",
    "plt.figure(figsize=(10,5)) \n",
    "plt.plot(x, df3.mean(axis=1))\n",
    "plt.title(\"Ratio of E/I Over 2 Seconds\")\n",
    "plt.xlabel(\"Time (10^-1)\")\n",
    "plt.locator_params(axis=\"both\", integer=True, tight=True)\n",
    "plt.xticks(np.arange(min(x), max(x)+1, 1.0))\n",
    "plt.ylabel(\"Ratio\")\n",
    "plt.tight_layout()\n",
    "plt.savefig(\"Inst_2_E,I_time\")\n",
    "plt.show()"
   ]
  },
  {
   "cell_type": "code",
   "execution_count": 195,
   "id": "57f6c20c",
   "metadata": {},
   "outputs": [
    {
     "data": {
      "text/plain": [
       "[7984.097254543485,\n",
       " 7984.097228189265,\n",
       " 7984.094693706303,\n",
       " 7983.939854967007,\n",
       " 7982.794918737307,\n",
       " 7980.342469349139,\n",
       " 7976.960256077359,\n",
       " 7973.212961586129,\n",
       " 7969.36889889494,\n",
       " 7965.477651018209,\n",
       " 7961.56549246893,\n",
       " 7957.639847374764,\n",
       " 7953.708692628141,\n",
       " 7949.772310659459,\n",
       " 7945.832071694431,\n",
       " 7941.890284084532,\n",
       " 7937.944128087514,\n",
       " 7934.002792478705,\n",
       " 7930.057513627737,\n",
       " 7926.111331760844,\n",
       " 7922.162893216361]"
      ]
     },
     "execution_count": 195,
     "metadata": {},
     "output_type": "execute_result"
    }
   ],
   "source": [
    "ex"
   ]
  },
  {
   "cell_type": "code",
   "execution_count": 196,
   "id": "e4b27a3f",
   "metadata": {},
   "outputs": [
    {
     "data": {
      "text/plain": [
       "[-1951.7895102914913,\n",
       " -1951.7895102914913,\n",
       " -1951.7893842327298,\n",
       " -1951.7922615257314,\n",
       " -1951.8664829089048,\n",
       " -1952.0498641998543,\n",
       " -1952.3140433017595,\n",
       " -1952.6138532437308,\n",
       " -1952.9273386005661,\n",
       " -1953.2459542122804,\n",
       " -1953.5694050634695,\n",
       " -1953.894916004152,\n",
       " -1954.2225652082866,\n",
       " -1954.5525897090854,\n",
       " -1954.8865930943973,\n",
       " -1955.2191109227547,\n",
       " -1955.5527198318018,\n",
       " -1955.8865135313715,\n",
       " -1956.2217749452245,\n",
       " -1956.5570639369143,\n",
       " -1956.8924213842133]"
      ]
     },
     "execution_count": 196,
     "metadata": {},
     "output_type": "execute_result"
    }
   ],
   "source": [
    "inh"
   ]
  },
  {
   "cell_type": "code",
   "execution_count": 199,
   "id": "cdfd8c43",
   "metadata": {},
   "outputs": [
    {
     "data": {
      "text/plain": [
       "[-4.090654864392162,\n",
       " -4.090654864392162,\n",
       " -4.0906534537340224,\n",
       " -4.090528550241055,\n",
       " -4.08960396934285,\n",
       " -4.087793005256887,\n",
       " -4.085430997461779,\n",
       " -4.0828549737691935,\n",
       " -4.080218123719137,\n",
       " -4.077555769141283,\n",
       " -4.074881447383553,\n",
       " -4.0721860880974585,\n",
       " -4.069491473662144,\n",
       " -4.066786156049052,\n",
       " -4.064078774136745,\n",
       " -4.061369107241541,\n",
       " -4.0586464041983135,\n",
       " -4.055928172677252,\n",
       " -4.053219800487596,\n",
       " -4.05050083145512,\n",
       " -4.047781534733168,\n",
       " -4.090654864392162,\n",
       " -4.090654864392162,\n",
       " -4.090652892007692,\n",
       " -4.090517267019642,\n",
       " -4.089542675785222,\n",
       " -4.087699700817441,\n",
       " -4.085321659544762,\n",
       " -4.082750255477035,\n",
       " -4.080111837213046,\n",
       " -4.0774511153401685,\n",
       " -4.074776304385749,\n",
       " -4.072090067164789,\n",
       " -4.069399194132012,\n",
       " -4.066705196113772,\n",
       " -4.0640009229082015,\n",
       " -4.061297132809346,\n",
       " -4.058593013788463,\n",
       " -4.055883864580295,\n",
       " -4.0531745976939755,\n",
       " -4.050468875784915,\n",
       " -4.047767757162005]"
      ]
     },
     "execution_count": 199,
     "metadata": {},
     "output_type": "execute_result"
    }
   ],
   "source": [
    "ratio"
   ]
  }
 ],
 "metadata": {
  "kernelspec": {
   "display_name": "Python 3",
   "language": "python",
   "name": "python3"
  },
  "language_info": {
   "codemirror_mode": {
    "name": "ipython",
    "version": 3
   },
   "file_extension": ".py",
   "mimetype": "text/x-python",
   "name": "python",
   "nbconvert_exporter": "python",
   "pygments_lexer": "ipython3",
   "version": "3.8.8"
  }
 },
 "nbformat": 4,
 "nbformat_minor": 5
}
